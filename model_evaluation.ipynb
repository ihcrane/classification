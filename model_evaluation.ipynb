{
 "cells": [
  {
   "cell_type": "markdown",
   "id": "2df7838a",
   "metadata": {},
   "source": [
    "1. bottom left\n",
    "2. top right\n",
    "3. the model is accurate 80% of the time"
   ]
  },
  {
   "cell_type": "code",
   "execution_count": 71,
   "id": "a3566021",
   "metadata": {},
   "outputs": [],
   "source": [
    "tp = 46\n",
    "tn = 34\n",
    "fp = 13\n",
    "fn = 7"
   ]
  },
  {
   "cell_type": "code",
   "execution_count": 72,
   "id": "3a30b14d",
   "metadata": {},
   "outputs": [],
   "source": [
    "accuracy = (tp + tn) / (tp+tn+fn+fp)\n",
    "precision = (tp) / (tp+fp)\n",
    "recall = tp / (tp+fn)"
   ]
  },
  {
   "cell_type": "code",
   "execution_count": 73,
   "id": "5b3a1986",
   "metadata": {},
   "outputs": [],
   "source": [
    "import numpy as np\n",
    "import pandas as pd\n",
    "import seaborn as sns\n",
    "import matplotlib.pyplot as plt\n"
   ]
  },
  {
   "cell_type": "code",
   "execution_count": 74,
   "id": "8708bcd9",
   "metadata": {},
   "outputs": [
    {
     "data": {
      "text/html": [
       "<div>\n",
       "<style scoped>\n",
       "    .dataframe tbody tr th:only-of-type {\n",
       "        vertical-align: middle;\n",
       "    }\n",
       "\n",
       "    .dataframe tbody tr th {\n",
       "        vertical-align: top;\n",
       "    }\n",
       "\n",
       "    .dataframe thead th {\n",
       "        text-align: right;\n",
       "    }\n",
       "</style>\n",
       "<table border=\"1\" class=\"dataframe\">\n",
       "  <thead>\n",
       "    <tr style=\"text-align: right;\">\n",
       "      <th></th>\n",
       "      <th>actual</th>\n",
       "      <th>model1</th>\n",
       "      <th>model2</th>\n",
       "      <th>model3</th>\n",
       "    </tr>\n",
       "  </thead>\n",
       "  <tbody>\n",
       "    <tr>\n",
       "      <th>0</th>\n",
       "      <td>No Defect</td>\n",
       "      <td>No Defect</td>\n",
       "      <td>Defect</td>\n",
       "      <td>No Defect</td>\n",
       "    </tr>\n",
       "    <tr>\n",
       "      <th>1</th>\n",
       "      <td>No Defect</td>\n",
       "      <td>No Defect</td>\n",
       "      <td>Defect</td>\n",
       "      <td>Defect</td>\n",
       "    </tr>\n",
       "    <tr>\n",
       "      <th>2</th>\n",
       "      <td>No Defect</td>\n",
       "      <td>No Defect</td>\n",
       "      <td>Defect</td>\n",
       "      <td>No Defect</td>\n",
       "    </tr>\n",
       "    <tr>\n",
       "      <th>3</th>\n",
       "      <td>No Defect</td>\n",
       "      <td>Defect</td>\n",
       "      <td>Defect</td>\n",
       "      <td>Defect</td>\n",
       "    </tr>\n",
       "    <tr>\n",
       "      <th>4</th>\n",
       "      <td>No Defect</td>\n",
       "      <td>No Defect</td>\n",
       "      <td>Defect</td>\n",
       "      <td>No Defect</td>\n",
       "    </tr>\n",
       "    <tr>\n",
       "      <th>5</th>\n",
       "      <td>No Defect</td>\n",
       "      <td>No Defect</td>\n",
       "      <td>No Defect</td>\n",
       "      <td>Defect</td>\n",
       "    </tr>\n",
       "    <tr>\n",
       "      <th>6</th>\n",
       "      <td>No Defect</td>\n",
       "      <td>No Defect</td>\n",
       "      <td>No Defect</td>\n",
       "      <td>No Defect</td>\n",
       "    </tr>\n",
       "    <tr>\n",
       "      <th>7</th>\n",
       "      <td>No Defect</td>\n",
       "      <td>No Defect</td>\n",
       "      <td>Defect</td>\n",
       "      <td>No Defect</td>\n",
       "    </tr>\n",
       "    <tr>\n",
       "      <th>8</th>\n",
       "      <td>No Defect</td>\n",
       "      <td>No Defect</td>\n",
       "      <td>No Defect</td>\n",
       "      <td>No Defect</td>\n",
       "    </tr>\n",
       "    <tr>\n",
       "      <th>9</th>\n",
       "      <td>No Defect</td>\n",
       "      <td>No Defect</td>\n",
       "      <td>No Defect</td>\n",
       "      <td>Defect</td>\n",
       "    </tr>\n",
       "    <tr>\n",
       "      <th>10</th>\n",
       "      <td>No Defect</td>\n",
       "      <td>No Defect</td>\n",
       "      <td>Defect</td>\n",
       "      <td>No Defect</td>\n",
       "    </tr>\n",
       "    <tr>\n",
       "      <th>11</th>\n",
       "      <td>No Defect</td>\n",
       "      <td>No Defect</td>\n",
       "      <td>No Defect</td>\n",
       "      <td>No Defect</td>\n",
       "    </tr>\n",
       "    <tr>\n",
       "      <th>12</th>\n",
       "      <td>No Defect</td>\n",
       "      <td>No Defect</td>\n",
       "      <td>No Defect</td>\n",
       "      <td>No Defect</td>\n",
       "    </tr>\n",
       "    <tr>\n",
       "      <th>13</th>\n",
       "      <td>Defect</td>\n",
       "      <td>No Defect</td>\n",
       "      <td>Defect</td>\n",
       "      <td>Defect</td>\n",
       "    </tr>\n",
       "    <tr>\n",
       "      <th>14</th>\n",
       "      <td>No Defect</td>\n",
       "      <td>No Defect</td>\n",
       "      <td>No Defect</td>\n",
       "      <td>No Defect</td>\n",
       "    </tr>\n",
       "    <tr>\n",
       "      <th>15</th>\n",
       "      <td>No Defect</td>\n",
       "      <td>No Defect</td>\n",
       "      <td>Defect</td>\n",
       "      <td>No Defect</td>\n",
       "    </tr>\n",
       "    <tr>\n",
       "      <th>16</th>\n",
       "      <td>No Defect</td>\n",
       "      <td>No Defect</td>\n",
       "      <td>No Defect</td>\n",
       "      <td>Defect</td>\n",
       "    </tr>\n",
       "    <tr>\n",
       "      <th>17</th>\n",
       "      <td>No Defect</td>\n",
       "      <td>No Defect</td>\n",
       "      <td>No Defect</td>\n",
       "      <td>No Defect</td>\n",
       "    </tr>\n",
       "    <tr>\n",
       "      <th>18</th>\n",
       "      <td>No Defect</td>\n",
       "      <td>No Defect</td>\n",
       "      <td>No Defect</td>\n",
       "      <td>Defect</td>\n",
       "    </tr>\n",
       "    <tr>\n",
       "      <th>19</th>\n",
       "      <td>No Defect</td>\n",
       "      <td>No Defect</td>\n",
       "      <td>Defect</td>\n",
       "      <td>Defect</td>\n",
       "    </tr>\n",
       "  </tbody>\n",
       "</table>\n",
       "</div>"
      ],
      "text/plain": [
       "       actual     model1     model2     model3\n",
       "0   No Defect  No Defect     Defect  No Defect\n",
       "1   No Defect  No Defect     Defect     Defect\n",
       "2   No Defect  No Defect     Defect  No Defect\n",
       "3   No Defect     Defect     Defect     Defect\n",
       "4   No Defect  No Defect     Defect  No Defect\n",
       "5   No Defect  No Defect  No Defect     Defect\n",
       "6   No Defect  No Defect  No Defect  No Defect\n",
       "7   No Defect  No Defect     Defect  No Defect\n",
       "8   No Defect  No Defect  No Defect  No Defect\n",
       "9   No Defect  No Defect  No Defect     Defect\n",
       "10  No Defect  No Defect     Defect  No Defect\n",
       "11  No Defect  No Defect  No Defect  No Defect\n",
       "12  No Defect  No Defect  No Defect  No Defect\n",
       "13     Defect  No Defect     Defect     Defect\n",
       "14  No Defect  No Defect  No Defect  No Defect\n",
       "15  No Defect  No Defect     Defect  No Defect\n",
       "16  No Defect  No Defect  No Defect     Defect\n",
       "17  No Defect  No Defect  No Defect  No Defect\n",
       "18  No Defect  No Defect  No Defect     Defect\n",
       "19  No Defect  No Defect     Defect     Defect"
      ]
     },
     "execution_count": 74,
     "metadata": {},
     "output_type": "execute_result"
    }
   ],
   "source": [
    "df = pd.read_csv('c3.csv')\n",
    "df.head(20)"
   ]
  },
  {
   "cell_type": "code",
   "execution_count": 75,
   "id": "11354693",
   "metadata": {},
   "outputs": [
    {
     "name": "stdout",
     "output_type": "stream",
     "text": [
      "0.95\n",
      "0.56\n",
      "0.555\n"
     ]
    }
   ],
   "source": [
    "model1_acc = (df.model1 == df.actual).mean()\n",
    "model2_acc = (df.model2 == df.actual).mean()\n",
    "model3_acc = (df.model3 == df.actual).mean()\n",
    "\n",
    "print(model1_acc)\n",
    "print(model2_acc)\n",
    "print(model3_acc)"
   ]
  },
  {
   "cell_type": "code",
   "execution_count": 76,
   "id": "c9ec2df3",
   "metadata": {},
   "outputs": [
    {
     "name": "stdout",
     "output_type": "stream",
     "text": [
      "0.5\n",
      "0.5625\n",
      "0.8125\n"
     ]
    }
   ],
   "source": [
    "subset = df[df['actual']=='Defect']\n",
    "\n",
    "model1_recall = (subset.model1 == subset.actual).mean()\n",
    "model2_recall = (subset.model2 == subset.actual).mean()\n",
    "model3_recall = (subset.model3 == subset.actual).mean()\n",
    "\n",
    "print(model1_recall)\n",
    "print(model2_recall)\n",
    "print(model3_recall)\n",
    "\n",
    "# the best way to determine number of defects and have the recalled is use the Recall metric\n",
    "# model 3 has the highest recall"
   ]
  },
  {
   "cell_type": "code",
   "execution_count": 91,
   "id": "f58169ea",
   "metadata": {},
   "outputs": [
    {
     "name": "stdout",
     "output_type": "stream",
     "text": [
      "0.8\n",
      "0.1\n",
      "0.13131313131313133\n"
     ]
    }
   ],
   "source": [
    "subset1 = df[df['model1']=='Defect']\n",
    "subset2 = df[df['model2']=='Defect']\n",
    "subset3 = df[df['model3']=='Defect']\n",
    "\n",
    "model1_prec = (subset1.model1 == subset1.actual).mean()\n",
    "model2_prec = (subset2.model2 == subset2.actual).mean()\n",
    "model3_prec = (subset3.model3 == subset3.actual).mean()\n",
    "\n",
    "print(model1_prec)\n",
    "print(model2_prec)\n",
    "print(model3_prec)\n",
    "\n",
    "# the best way to determine which ducks were defects and \n",
    "# which ones to send on the vacation would be the Precision metric\n",
    "# model 1 has the highest precision"
   ]
  },
  {
   "cell_type": "code",
   "execution_count": 78,
   "id": "72a6f8fa",
   "metadata": {},
   "outputs": [
    {
     "data": {
      "text/html": [
       "<div>\n",
       "<style scoped>\n",
       "    .dataframe tbody tr th:only-of-type {\n",
       "        vertical-align: middle;\n",
       "    }\n",
       "\n",
       "    .dataframe tbody tr th {\n",
       "        vertical-align: top;\n",
       "    }\n",
       "\n",
       "    .dataframe thead th {\n",
       "        text-align: right;\n",
       "    }\n",
       "</style>\n",
       "<table border=\"1\" class=\"dataframe\">\n",
       "  <thead>\n",
       "    <tr style=\"text-align: right;\">\n",
       "      <th></th>\n",
       "      <th>actual</th>\n",
       "      <th>model1</th>\n",
       "      <th>model2</th>\n",
       "      <th>model3</th>\n",
       "      <th>model4</th>\n",
       "    </tr>\n",
       "  </thead>\n",
       "  <tbody>\n",
       "    <tr>\n",
       "      <th>0</th>\n",
       "      <td>cat</td>\n",
       "      <td>cat</td>\n",
       "      <td>dog</td>\n",
       "      <td>cat</td>\n",
       "      <td>dog</td>\n",
       "    </tr>\n",
       "    <tr>\n",
       "      <th>1</th>\n",
       "      <td>dog</td>\n",
       "      <td>dog</td>\n",
       "      <td>cat</td>\n",
       "      <td>cat</td>\n",
       "      <td>dog</td>\n",
       "    </tr>\n",
       "    <tr>\n",
       "      <th>2</th>\n",
       "      <td>dog</td>\n",
       "      <td>cat</td>\n",
       "      <td>cat</td>\n",
       "      <td>cat</td>\n",
       "      <td>dog</td>\n",
       "    </tr>\n",
       "    <tr>\n",
       "      <th>3</th>\n",
       "      <td>dog</td>\n",
       "      <td>dog</td>\n",
       "      <td>dog</td>\n",
       "      <td>cat</td>\n",
       "      <td>dog</td>\n",
       "    </tr>\n",
       "    <tr>\n",
       "      <th>4</th>\n",
       "      <td>cat</td>\n",
       "      <td>cat</td>\n",
       "      <td>cat</td>\n",
       "      <td>dog</td>\n",
       "      <td>dog</td>\n",
       "    </tr>\n",
       "  </tbody>\n",
       "</table>\n",
       "</div>"
      ],
      "text/plain": [
       "  actual model1 model2 model3 model4\n",
       "0    cat    cat    dog    cat    dog\n",
       "1    dog    dog    cat    cat    dog\n",
       "2    dog    cat    cat    cat    dog\n",
       "3    dog    dog    dog    cat    dog\n",
       "4    cat    cat    cat    dog    dog"
      ]
     },
     "execution_count": 78,
     "metadata": {},
     "output_type": "execute_result"
    }
   ],
   "source": [
    "df1 = pd.read_csv('gives_you_paws.csv')\n",
    "df1.head()"
   ]
  },
  {
   "cell_type": "code",
   "execution_count": 79,
   "id": "3505ae7e",
   "metadata": {},
   "outputs": [
    {
     "data": {
      "text/plain": [
       "dog    3254\n",
       "cat    1746\n",
       "Name: actual, dtype: int64"
      ]
     },
     "execution_count": 79,
     "metadata": {},
     "output_type": "execute_result"
    }
   ],
   "source": [
    "df1['actual'].value_counts()"
   ]
  },
  {
   "cell_type": "code",
   "execution_count": 80,
   "id": "a9d32573",
   "metadata": {},
   "outputs": [
    {
     "data": {
      "text/html": [
       "<div>\n",
       "<style scoped>\n",
       "    .dataframe tbody tr th:only-of-type {\n",
       "        vertical-align: middle;\n",
       "    }\n",
       "\n",
       "    .dataframe tbody tr th {\n",
       "        vertical-align: top;\n",
       "    }\n",
       "\n",
       "    .dataframe thead th {\n",
       "        text-align: right;\n",
       "    }\n",
       "</style>\n",
       "<table border=\"1\" class=\"dataframe\">\n",
       "  <thead>\n",
       "    <tr style=\"text-align: right;\">\n",
       "      <th></th>\n",
       "      <th>actual</th>\n",
       "      <th>model1</th>\n",
       "      <th>model2</th>\n",
       "      <th>model3</th>\n",
       "      <th>model4</th>\n",
       "      <th>base</th>\n",
       "    </tr>\n",
       "  </thead>\n",
       "  <tbody>\n",
       "    <tr>\n",
       "      <th>0</th>\n",
       "      <td>cat</td>\n",
       "      <td>cat</td>\n",
       "      <td>dog</td>\n",
       "      <td>cat</td>\n",
       "      <td>dog</td>\n",
       "      <td>dog</td>\n",
       "    </tr>\n",
       "    <tr>\n",
       "      <th>1</th>\n",
       "      <td>dog</td>\n",
       "      <td>dog</td>\n",
       "      <td>cat</td>\n",
       "      <td>cat</td>\n",
       "      <td>dog</td>\n",
       "      <td>dog</td>\n",
       "    </tr>\n",
       "    <tr>\n",
       "      <th>2</th>\n",
       "      <td>dog</td>\n",
       "      <td>cat</td>\n",
       "      <td>cat</td>\n",
       "      <td>cat</td>\n",
       "      <td>dog</td>\n",
       "      <td>dog</td>\n",
       "    </tr>\n",
       "    <tr>\n",
       "      <th>3</th>\n",
       "      <td>dog</td>\n",
       "      <td>dog</td>\n",
       "      <td>dog</td>\n",
       "      <td>cat</td>\n",
       "      <td>dog</td>\n",
       "      <td>dog</td>\n",
       "    </tr>\n",
       "    <tr>\n",
       "      <th>4</th>\n",
       "      <td>cat</td>\n",
       "      <td>cat</td>\n",
       "      <td>cat</td>\n",
       "      <td>dog</td>\n",
       "      <td>dog</td>\n",
       "      <td>dog</td>\n",
       "    </tr>\n",
       "  </tbody>\n",
       "</table>\n",
       "</div>"
      ],
      "text/plain": [
       "  actual model1 model2 model3 model4 base\n",
       "0    cat    cat    dog    cat    dog  dog\n",
       "1    dog    dog    cat    cat    dog  dog\n",
       "2    dog    cat    cat    cat    dog  dog\n",
       "3    dog    dog    dog    cat    dog  dog\n",
       "4    cat    cat    cat    dog    dog  dog"
      ]
     },
     "execution_count": 80,
     "metadata": {},
     "output_type": "execute_result"
    }
   ],
   "source": [
    "df1['base'] = 'dog'\n",
    "df1.head()"
   ]
  },
  {
   "cell_type": "code",
   "execution_count": 81,
   "id": "8f2f901c",
   "metadata": {},
   "outputs": [
    {
     "name": "stdout",
     "output_type": "stream",
     "text": [
      "0.8074\n",
      "0.6304\n",
      "0.5096\n",
      "0.7426\n",
      "0.6508\n"
     ]
    }
   ],
   "source": [
    "model1_acc = (df1.model1 == df1.actual).mean()\n",
    "model2_acc = (df1.model2 == df1.actual).mean()\n",
    "model3_acc = (df1.model3 == df1.actual).mean()\n",
    "model4_acc = (df1.model4 == df1.actual).mean()\n",
    "baseline = (df1.base == df1.actual).mean()\n",
    "\n",
    "print(model1_acc)\n",
    "print(model2_acc)\n",
    "print(model3_acc)\n",
    "print(model4_acc)\n",
    "print(baseline)\n",
    "\n",
    "# Models 1 and 4 have the highest accuracy and both are above the baseline"
   ]
  },
  {
   "cell_type": "code",
   "execution_count": 92,
   "id": "06ec5169",
   "metadata": {},
   "outputs": [
    {
     "name": "stdout",
     "output_type": "stream",
     "text": [
      "0.803318992009834\n",
      "0.49078057775046097\n",
      "0.5086047940995697\n",
      "0.9557467732022127\n"
     ]
    }
   ],
   "source": [
    "subset = df1[df1['actual']=='dog']\n",
    "\n",
    "model1_recall = (subset.model1 == subset.actual).mean()\n",
    "model2_recall = (subset.model2 == subset.actual).mean()\n",
    "model3_recall = (subset.model3 == subset.actual).mean()\n",
    "model4_recall = (subset.model4 == subset.actual).mean()\n",
    "\n",
    "print(model1_recall)\n",
    "print(model2_recall)\n",
    "print(model3_recall)\n",
    "print(model4_recall)\n",
    "\n",
    "# the best model when dealing with only dog pics would be model 4 which has a Recall of 95.57"
   ]
  },
  {
   "cell_type": "code",
   "execution_count": 93,
   "id": "c05e86d0",
   "metadata": {},
   "outputs": [
    {
     "name": "stdout",
     "output_type": "stream",
     "text": [
      "0.8150057273768614\n",
      "0.8906071019473081\n",
      "0.5114547537227949\n",
      "0.34536082474226804\n"
     ]
    }
   ],
   "source": [
    "subset = df1[df1['actual']=='cat']\n",
    "\n",
    "model1_recall = (subset.model1 == subset.actual).mean()\n",
    "model2_recall = (subset.model2 == subset.actual).mean()\n",
    "model3_recall = (subset.model3 == subset.actual).mean()\n",
    "model4_recall = (subset.model4 == subset.actual).mean()\n",
    "\n",
    "print(model1_recall)\n",
    "print(model2_recall)\n",
    "print(model3_recall)\n",
    "print(model4_recall)\n",
    "\n",
    "# the best model when dealing with only cat pics would be model 2 which has a Recall of 89.06"
   ]
  },
  {
   "cell_type": "code",
   "execution_count": 84,
   "id": "4f0c2de4",
   "metadata": {},
   "outputs": [
    {
     "name": "stdout",
     "output_type": "stream",
     "text": [
      "Model 1 accuracy:  0.8074\n",
      "Model 2 accuracy:  0.6304\n",
      "Model 3 accuracy:  0.5096\n",
      "Model 4 accuracy:  0.7426\n"
     ]
    }
   ],
   "source": [
    "from sklearn.metrics import accuracy_score\n",
    "\n",
    "print('Model 1 accuracy: ', accuracy_score(df1['actual'], df1['model1']))\n",
    "print('Model 2 accuracy: ', accuracy_score(df1['actual'], df1['model2']))\n",
    "print('Model 3 accuracy: ', accuracy_score(df1['actual'], df1['model3']))\n",
    "print('Model 4 accuracy: ', accuracy_score(df1['actual'], df1['model4']))"
   ]
  },
  {
   "cell_type": "code",
   "execution_count": 85,
   "id": "22793323",
   "metadata": {},
   "outputs": [
    {
     "name": "stdout",
     "output_type": "stream",
     "text": [
      "Model 1 precision:  0.8900238338440586\n",
      "Model 2 precision:  0.8931767337807607\n",
      "Model 3 precision:  0.6598883572567783\n",
      "Model 4 precision:  0.7312485304490948\n"
     ]
    }
   ],
   "source": [
    "from sklearn.metrics import precision_score\n",
    "\n",
    "print('Model 1 precision: ', precision_score(df1['actual'], df1['model1'], pos_label='dog'))\n",
    "print('Model 2 precision: ', precision_score(df1['actual'], df1['model2'], pos_label='dog'))\n",
    "print('Model 3 precision: ', precision_score(df1['actual'], df1['model3'], pos_label='dog'))\n",
    "print('Model 4 precision: ', precision_score(df1['actual'], df1['model4'], pos_label='dog'))"
   ]
  },
  {
   "cell_type": "code",
   "execution_count": 86,
   "id": "8e4103f0",
   "metadata": {},
   "outputs": [
    {
     "name": "stdout",
     "output_type": "stream",
     "text": [
      "Model 1 recall:  0.803318992009834\n",
      "Model 2 recall:  0.49078057775046097\n",
      "Model 3 recall:  0.5086047940995697\n",
      "Model 4 recall:  0.9557467732022127\n"
     ]
    }
   ],
   "source": [
    "from sklearn.metrics import recall_score\n",
    "\n",
    "print('Model 1 recall: ', recall_score(df1['actual'], df1['model1'], pos_label='dog'))\n",
    "print('Model 2 recall: ', recall_score(df1['actual'], df1['model2'], pos_label='dog'))\n",
    "print('Model 3 recall: ', recall_score(df1['actual'], df1['model3'], pos_label='dog'))\n",
    "print('Model 4 recall: ', recall_score(df1['actual'], df1['model4'], pos_label='dog'))"
   ]
  },
  {
   "cell_type": "code",
   "execution_count": 87,
   "id": "b68ff50e",
   "metadata": {},
   "outputs": [
    {
     "name": "stdout",
     "output_type": "stream",
     "text": [
      "              precision    recall  f1-score   support\n",
      "\n",
      "         cat       0.69      0.82      0.75      1746\n",
      "         dog       0.89      0.80      0.84      3254\n",
      "\n",
      "    accuracy                           0.81      5000\n",
      "   macro avg       0.79      0.81      0.80      5000\n",
      "weighted avg       0.82      0.81      0.81      5000\n",
      "\n"
     ]
    }
   ],
   "source": [
    "from sklearn.metrics import classification_report\n",
    "\n",
    "print(classification_report(df1['actual'], df1['model1']))"
   ]
  },
  {
   "cell_type": "code",
   "execution_count": 88,
   "id": "56069f45",
   "metadata": {},
   "outputs": [
    {
     "name": "stdout",
     "output_type": "stream",
     "text": [
      "              precision    recall  f1-score   support\n",
      "\n",
      "         cat       0.48      0.89      0.63      1746\n",
      "         dog       0.89      0.49      0.63      3254\n",
      "\n",
      "    accuracy                           0.63      5000\n",
      "   macro avg       0.69      0.69      0.63      5000\n",
      "weighted avg       0.75      0.63      0.63      5000\n",
      "\n"
     ]
    }
   ],
   "source": [
    "print(classification_report(df1['actual'], df1['model2']))"
   ]
  },
  {
   "cell_type": "code",
   "execution_count": 89,
   "id": "999bc9c5",
   "metadata": {},
   "outputs": [
    {
     "name": "stdout",
     "output_type": "stream",
     "text": [
      "              precision    recall  f1-score   support\n",
      "\n",
      "         cat       0.36      0.51      0.42      1746\n",
      "         dog       0.66      0.51      0.57      3254\n",
      "\n",
      "    accuracy                           0.51      5000\n",
      "   macro avg       0.51      0.51      0.50      5000\n",
      "weighted avg       0.55      0.51      0.52      5000\n",
      "\n"
     ]
    }
   ],
   "source": [
    "print(classification_report(df1['actual'], df1['model3']))"
   ]
  },
  {
   "cell_type": "code",
   "execution_count": 90,
   "id": "5bcee00f",
   "metadata": {},
   "outputs": [
    {
     "name": "stdout",
     "output_type": "stream",
     "text": [
      "              precision    recall  f1-score   support\n",
      "\n",
      "         cat       0.81      0.35      0.48      1746\n",
      "         dog       0.73      0.96      0.83      3254\n",
      "\n",
      "    accuracy                           0.74      5000\n",
      "   macro avg       0.77      0.65      0.66      5000\n",
      "weighted avg       0.76      0.74      0.71      5000\n",
      "\n"
     ]
    }
   ],
   "source": [
    "print(classification_report(df1['actual'], df1['model4']))"
   ]
  }
 ],
 "metadata": {
  "kernelspec": {
   "display_name": "Python 3 (ipykernel)",
   "language": "python",
   "name": "python3"
  },
  "language_info": {
   "codemirror_mode": {
    "name": "ipython",
    "version": 3
   },
   "file_extension": ".py",
   "mimetype": "text/x-python",
   "name": "python",
   "nbconvert_exporter": "python",
   "pygments_lexer": "ipython3",
   "version": "3.9.13"
  }
 },
 "nbformat": 4,
 "nbformat_minor": 5
}
